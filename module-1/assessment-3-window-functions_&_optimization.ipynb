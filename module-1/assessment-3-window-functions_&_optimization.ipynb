{
 "cells": [
  {
   "cell_type": "code",
   "execution_count": 0,
   "metadata": {
    "application/vnd.databricks.v1+cell": {
     "cellMetadata": {
      "byteLimit": 2048000,
      "rowLimit": 10000
     },
     "inputWidgets": {},
     "nuid": "0a43ee98-292a-475c-b387-faa3dfe4a1c4",
     "showTitle": false,
     "tableResultSettingsMap": {},
     "title": ""
    }
   },
   "outputs": [],
   "source": [
    "--create a table\n",
    "\n",
    "create table employee_sales(\n",
    "  emp_id varchar(100),\n",
    "  emp_name varchar(100),\n",
    "  sale_amount int,\n",
    "  dept varchar(100),\n",
    "  sale_date date\n",
    ")"
   ]
  },
  {
   "cell_type": "code",
   "execution_count": 0,
   "metadata": {
    "application/vnd.databricks.v1+cell": {
     "cellMetadata": {
      "byteLimit": 2048000,
      "rowLimit": 10000
     },
     "inputWidgets": {},
     "nuid": "ab719bd2-3e59-4423-9cd8-c44004ace43e",
     "showTitle": false,
     "tableResultSettingsMap": {},
     "title": ""
    }
   },
   "outputs": [],
   "source": [
    "insert into employee_sales values\n",
    "('E101','Ankit',5000,'Fashion','2023-10-01'),\n",
    "('E102','Priya',8000,'Fashion','2023-10-01'),\n",
    "('E103','Ravi',7000,'Electronics','2023-10-02'),\n",
    "('E101','Ankit',6000,'Fashion','2023-10-03')\n",
    "\n"
   ]
  },
  {
   "cell_type": "code",
   "execution_count": 0,
   "metadata": {
    "application/vnd.databricks.v1+cell": {
     "cellMetadata": {
      "byteLimit": 2048000,
      "rowLimit": 10000
     },
     "inputWidgets": {},
     "nuid": "8f83a92c-fbc4-496e-95f1-0a2ff6aec168",
     "showTitle": false,
     "tableResultSettingsMap": {
      "0": {
       "dataGridStateBlob": "{\"version\":1,\"tableState\":{\"columnPinning\":{\"left\":[\"#row_number#\"],\"right\":[]},\"columnSizing\":{\"sale_date\":90,\"rank()OVER(PARTITIONBYdeptORDERBYsale_amountDESC)\":195},\"columnVisibility\":{}},\"settings\":{\"columns\":{}},\"syncTimestamp\":1757398277029}",
       "filterBlob": null,
       "queryPlanFiltersBlob": null,
       "tableResultIndex": 0
      }
     },
     "title": ""
    }
   },
   "outputs": [],
   "source": [
    "--write a window function to assign a rank of employees by sale_amount within each department\n",
    "\n",
    "\n",
    "SELECT *,\n",
    "rank() over(partition by dept order by sale_amount desc) as rnk\n",
    "from employee_sales\n"
   ]
  },
  {
   "cell_type": "code",
   "execution_count": 0,
   "metadata": {
    "application/vnd.databricks.v1+cell": {
     "cellMetadata": {
      "byteLimit": 2048000,
      "rowLimit": 10000
     },
     "inputWidgets": {},
     "nuid": "3e2ad288-13d5-41f5-b0bc-a22fd2448222",
     "showTitle": false,
     "tableResultSettingsMap": {},
     "title": ""
    }
   },
   "outputs": [],
   "source": [
    "--find the running total(cumulative sum) of sales of each employee\n",
    "\n",
    "SELECT *,\n",
    "sum(sale_amount) over(order by emp_name) as running_total\n",
    "from employee_sales\n",
    "\n"
   ]
  },
  {
   "cell_type": "code",
   "execution_count": 0,
   "metadata": {
    "application/vnd.databricks.v1+cell": {
     "cellMetadata": {
      "byteLimit": 2048000,
      "rowLimit": 10000
     },
     "inputWidgets": {},
     "nuid": "437f35f9-1b16-4533-8f6d-ef0c562a323e",
     "showTitle": false,
     "tableResultSettingsMap": {},
     "title": ""
    }
   },
   "outputs": [],
   "source": [
    "--optimize a query by selecting only required columns and apply filters before aggregation\n",
    "\n",
    "select emp_id,emp_name,sum(sale_amount)\n",
    "from employee_sales\n",
    "where sale_amount<=6000\n",
    "group by 1,2\n",
    "\n",
    "\n"
   ]
  },
  {
   "cell_type": "markdown",
   "metadata": {
    "application/vnd.databricks.v1+cell": {
     "cellMetadata": {},
     "inputWidgets": {},
     "nuid": "1c3b7aa8-7f12-4983-9a14-b5b990a528b5",
     "showTitle": false,
     "tableResultSettingsMap": {},
     "title": ""
    }
   },
   "source": [
    "explain how indexing help if the table is havinf million records\n",
    "\n",
    "- Without an index: The database scans every row (a full table scan).\n",
    "- With an index: It jumps directly to the relevant rows using a fast lookup.\n",
    "\n",
    "fast lookup ?\n",
    "- B-tree Index: Great for range queries (BETWEEN, >, <) and sorting.\n",
    "- Hash Index: Fast for exact matches (=), but not for ranges.\n"
   ]
  },
  {
   "cell_type": "code",
   "execution_count": 0,
   "metadata": {
    "application/vnd.databricks.v1+cell": {
     "cellMetadata": {},
     "inputWidgets": {},
     "nuid": "a0cee8e8-cafa-4b17-b100-446ced15fb58",
     "showTitle": false,
     "tableResultSettingsMap": {},
     "title": ""
    }
   },
   "outputs": [],
   "source": [
    "\n"
   ]
  }
 ],
 "metadata": {
  "application/vnd.databricks.v1+notebook": {
   "computePreferences": null,
   "dashboards": [],
   "environmentMetadata": {
    "base_environment": "",
    "environment_version": "3"
   },
   "inputWidgetPreferences": null,
   "language": "sql",
   "notebookMetadata": {
    "pythonIndentUnit": 4
   },
   "notebookName": "assessment-3-window-functions_&_optimization",
   "widgets": {}
  },
  "language_info": {
   "name": "sql"
  }
 },
 "nbformat": 4,
 "nbformat_minor": 0
}
