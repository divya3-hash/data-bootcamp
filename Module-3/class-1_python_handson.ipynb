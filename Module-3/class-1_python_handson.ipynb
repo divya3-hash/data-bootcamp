{
 "cells": [
  {
   "cell_type": "markdown",
   "metadata": {
    "application/vnd.databricks.v1+cell": {
     "cellMetadata": {},
     "inputWidgets": {},
     "nuid": "936f4ef5-7913-48a5-a752-69469ec42086",
     "showTitle": false,
     "tableResultSettingsMap": {},
     "title": ""
    }
   },
   "source": [
    "Class 2: Python — Your DE Power Tool\n"
   ]
  },
  {
   "cell_type": "code",
   "execution_count": 0,
   "metadata": {
    "application/vnd.databricks.v1+cell": {
     "cellMetadata": {
      "byteLimit": 2048000,
      "rowLimit": 10000
     },
     "inputWidgets": {},
     "nuid": "824e6454-2947-49d2-91af-285cb8f305f8",
     "showTitle": false,
     "tableResultSettingsMap": {},
     "title": ""
    }
   },
   "outputs": [],
   "source": [
    "%python\n",
    "name = 'Anurag'\n",
    "type(name)\n",
    "     \n",
    "\n"
   ]
  },
  {
   "cell_type": "code",
   "execution_count": 0,
   "metadata": {
    "application/vnd.databricks.v1+cell": {
     "cellMetadata": {
      "byteLimit": 2048000,
      "rowLimit": 10000
     },
     "inputWidgets": {},
     "nuid": "7db170ec-70ce-415b-b01a-9905f42a2b0e",
     "showTitle": false,
     "tableResultSettingsMap": {},
     "title": ""
    }
   },
   "outputs": [],
   "source": [
    "%python\n",
    "a = '10'\n",
    "type(a)\n",
    "     \n",
    "\n"
   ]
  },
  {
   "cell_type": "code",
   "execution_count": 0,
   "metadata": {
    "application/vnd.databricks.v1+cell": {
     "cellMetadata": {
      "byteLimit": 2048000,
      "rowLimit": 10000
     },
     "inputWidgets": {},
     "nuid": "5fbf943c-0149-4fcb-ba86-d7caf7c15174",
     "showTitle": false,
     "tableResultSettingsMap": {},
     "title": ""
    }
   },
   "outputs": [],
   "source": [
    "%python\n",
    "a = 10\n",
    "type(a)\n",
    "     \n"
   ]
  },
  {
   "cell_type": "code",
   "execution_count": 0,
   "metadata": {
    "application/vnd.databricks.v1+cell": {
     "cellMetadata": {
      "byteLimit": 2048000,
      "rowLimit": 10000
     },
     "inputWidgets": {},
     "nuid": "e04cfa48-a162-466b-8a4c-65564456188b",
     "showTitle": false,
     "tableResultSettingsMap": {},
     "title": ""
    }
   },
   "outputs": [],
   "source": [
    "%python\n",
    "\n",
    "salary =25000.90\n",
    "type(salary)\n",
    "     \n"
   ]
  },
  {
   "cell_type": "code",
   "execution_count": 0,
   "metadata": {
    "application/vnd.databricks.v1+cell": {
     "cellMetadata": {
      "byteLimit": 2048000,
      "rowLimit": 10000
     },
     "inputWidgets": {},
     "nuid": "31e832c2-9cc5-48c3-8a7d-b6c59ad812d4",
     "showTitle": false,
     "tableResultSettingsMap": {},
     "title": ""
    }
   },
   "outputs": [],
   "source": [
    "%python\n",
    "\n",
    "is_active=True\n",
    "type(is_active)"
   ]
  },
  {
   "cell_type": "markdown",
   "metadata": {
    "application/vnd.databricks.v1+cell": {
     "cellMetadata": {},
     "inputWidgets": {},
     "nuid": "610d5bbb-33f3-4dcf-8072-58b3275696ae",
     "showTitle": false,
     "tableResultSettingsMap": {},
     "title": ""
    }
   },
   "source": [
    "'25' is different from 25"
   ]
  },
  {
   "cell_type": "code",
   "execution_count": 0,
   "metadata": {
    "application/vnd.databricks.v1+cell": {
     "cellMetadata": {
      "byteLimit": 2048000,
      "rowLimit": 10000
     },
     "inputWidgets": {},
     "nuid": "ca638b1c-7767-4389-bef6-146bf1a1beee",
     "showTitle": false,
     "tableResultSettingsMap": {},
     "title": ""
    }
   },
   "outputs": [],
   "source": [
    "%python\n",
    "print(\"My Name is Anurag\")\n",
    "     \n",
    "\n",
    "#use of f-string formating\n",
    "name='Anurag'\n",
    "\n",
    "print(f\"My Name is {name}\")"
   ]
  },
  {
   "cell_type": "markdown",
   "metadata": {
    "application/vnd.databricks.v1+cell": {
     "cellMetadata": {},
     "inputWidgets": {},
     "nuid": "45876880-8e5c-4860-8e56-dfd3b7df225c",
     "showTitle": false,
     "tableResultSettingsMap": {},
     "title": ""
    }
   },
   "source": [
    "LISTS"
   ]
  },
  {
   "cell_type": "code",
   "execution_count": 0,
   "metadata": {
    "application/vnd.databricks.v1+cell": {
     "cellMetadata": {
      "byteLimit": 2048000,
      "rowLimit": 10000
     },
     "inputWidgets": {},
     "nuid": "f3968883-32cf-480a-8fb4-82046937b13d",
     "showTitle": false,
     "tableResultSettingsMap": {},
     "title": ""
    }
   },
   "outputs": [],
   "source": [
    "%python\n",
    "employee=['Alice','Anurag','Bob',10000,20000,30000,30.333,True]\n",
    "print(employee)\n",
    "     \n",
    "\n",
    "#Last Value of the List\n",
    "print(employee[-1])\n",
    "     \n",
    "\n",
    "print(employee[1])\n",
    "     \n",
    "\n",
    "print(employee[0:-1:2])\n",
    "#employee[start:end:step]\n",
    "     \n",
    "\n",
    "employee[-2]=40000\n",
    "     \n",
    "\n",
    "print(employee)\n",
    "     \n",
    "\n",
    "type(employee)"
   ]
  },
  {
   "cell_type": "markdown",
   "metadata": {
    "application/vnd.databricks.v1+cell": {
     "cellMetadata": {},
     "inputWidgets": {},
     "nuid": "7988ad6e-7f46-45f3-98a5-be154cb05ace",
     "showTitle": false,
     "tableResultSettingsMap": {},
     "title": ""
    }
   },
   "source": [
    "Dictionary"
   ]
  },
  {
   "cell_type": "code",
   "execution_count": 0,
   "metadata": {
    "application/vnd.databricks.v1+cell": {
     "cellMetadata": {
      "byteLimit": 2048000,
      "rowLimit": 10000
     },
     "inputWidgets": {},
     "nuid": "816de722-95e9-47fc-9132-1d95ba29a201",
     "showTitle": false,
     "tableResultSettingsMap": {},
     "title": ""
    }
   },
   "outputs": [],
   "source": [
    "%python\n",
    "employee_info = {'name': 'Alice', 'role': 'Engineer', 'salary': 65000}\n",
    "     \n",
    "\n",
    "print(type(employee_info))\n",
    "     \n",
    "\n",
    "print(employee_info)\n",
    "     \n",
    "\n",
    "print(employee_info['salary'])\n",
    "     \n",
    "\n",
    "print(f\"The Name of employee is {employee_info['name']} and Salary is {employee_info['salary']}\")\n",
    "     \n",
    "\n",
    "#Safe Access if key is not present\n",
    "print(employee_info.get('location','Not Avaliable'))\n",
    "     \n",
    "\n",
    "#Mutable - Can be changed\n",
    "employee_info['salary']=70000\n",
    "employee_info['role']='Data Engineer'\n",
    "print(employee_info)"
   ]
  },
  {
   "cell_type": "markdown",
   "metadata": {
    "application/vnd.databricks.v1+cell": {
     "cellMetadata": {},
     "inputWidgets": {},
     "nuid": "5a94139e-ffd7-477d-aa4c-ccfb1544525d",
     "showTitle": false,
     "tableResultSettingsMap": {},
     "title": ""
    }
   },
   "source": [
    "Functions"
   ]
  },
  {
   "cell_type": "code",
   "execution_count": 0,
   "metadata": {
    "application/vnd.databricks.v1+cell": {
     "cellMetadata": {
      "byteLimit": 2048000,
      "rowLimit": 10000
     },
     "inputWidgets": {},
     "nuid": "642618ce-5666-4088-8563-1874587fa8b0",
     "showTitle": false,
     "tableResultSettingsMap": {},
     "title": ""
    }
   },
   "outputs": [],
   "source": [
    "%python\n",
    "\n",
    "# function 1 example\n",
    "def greet(name):\n",
    "    print(f\"Hello {name}!!!\")\n",
    "     \n",
    "greet('Anurag')\n",
    "     \n",
    "# function 2 example\n",
    "#calculate the salary Bonus \n",
    "def calculate_bonus(salary):\n",
    "    if salary>50000:\n",
    "        print(f\"The Salary is {salary}\")\n",
    "        return \"BONUS APPROVED🔥\"\n",
    "    return \"BONUS DENIED❌\"\n",
    "\n",
    "#print(calculate_bonus(2000))\n",
    "calculate_bonus(employee_info['salary'])"
   ]
  },
  {
   "cell_type": "markdown",
   "metadata": {
    "application/vnd.databricks.v1+cell": {
     "cellMetadata": {},
     "inputWidgets": {},
     "nuid": "e26b19d1-6476-4eda-8d41-1ab26318a81f",
     "showTitle": false,
     "tableResultSettingsMap": {},
     "title": ""
    }
   },
   "source": [
    "If-Else Statements"
   ]
  },
  {
   "cell_type": "code",
   "execution_count": 0,
   "metadata": {
    "application/vnd.databricks.v1+cell": {
     "cellMetadata": {
      "byteLimit": 2048000,
      "rowLimit": 10000
     },
     "inputWidgets": {},
     "nuid": "552fcc47-b9a3-4459-8597-25f9bccae0a6",
     "showTitle": false,
     "tableResultSettingsMap": {},
     "title": ""
    }
   },
   "outputs": [],
   "source": [
    "%python\n",
    "#ex-1\n",
    "salary=int(input(\"Enter the Amount of Salary you EARN!\"))\n",
    "\n",
    "if salary>=70000:\n",
    "    print(\"Great Salary! High Earner✅\")\n",
    "elif salary >=50000:\n",
    "    print(\"Average Salary! Good Job!✅\")\n",
    "else:\n",
    "    print(\"Poor Salary! Need Improvement!❌\")\n",
    "     \n",
    "\n"
   ]
  },
  {
   "cell_type": "code",
   "execution_count": 0,
   "metadata": {
    "application/vnd.databricks.v1+cell": {
     "cellMetadata": {
      "byteLimit": 2048000,
      "rowLimit": 10000
     },
     "inputWidgets": {},
     "nuid": "461d7afd-ee96-432c-8696-e4c469ef819a",
     "showTitle": false,
     "tableResultSettingsMap": {},
     "title": ""
    }
   },
   "outputs": [],
   "source": [
    "%python\n",
    "def tax_bracket(salary):\n",
    "    if salary > 70000:\n",
    "        return \"30%\"\n",
    "    elif salary > 50000:\n",
    "        return \"20%\"\n",
    "    else:\n",
    "        return \"10%\"\n",
    "     \n",
    "\n",
    "salary=int(input(\"Enter the Amount of Salary you EARN!\"))\n",
    "print(tax_bracket(salary))"
   ]
  },
  {
   "cell_type": "markdown",
   "metadata": {
    "application/vnd.databricks.v1+cell": {
     "cellMetadata": {},
     "inputWidgets": {},
     "nuid": "c206c25c-4699-42d2-8dcd-7a1aa02aed1f",
     "showTitle": false,
     "tableResultSettingsMap": {},
     "title": ""
    }
   },
   "source": [
    "Loops – For & While"
   ]
  },
  {
   "cell_type": "markdown",
   "metadata": {
    "application/vnd.databricks.v1+cell": {
     "cellMetadata": {},
     "inputWidgets": {},
     "nuid": "9d880e4f-f84b-4223-8e48-6beaea73efbf",
     "showTitle": false,
     "tableResultSettingsMap": {},
     "title": ""
    }
   },
   "source": [
    "for = Iterating over sequences (rows, batches)\n",
    "while = Looping until a condition (e.g., retries, monitoring)"
   ]
  },
  {
   "cell_type": "code",
   "execution_count": 0,
   "metadata": {
    "application/vnd.databricks.v1+cell": {
     "cellMetadata": {
      "byteLimit": 2048000,
      "rowLimit": 10000
     },
     "inputWidgets": {},
     "nuid": "c6b7360d-dc71-4620-8113-427f110ffe19",
     "showTitle": false,
     "tableResultSettingsMap": {},
     "title": ""
    }
   },
   "outputs": [],
   "source": [
    "%python\n",
    "employee=['Alice','Anurag','Bob','Anurag','Stuti','Ankur']\n",
    "\n",
    "for emp in employee:\n",
    "    print(f\"Hello {emp} Welcome to Python Class of DataX by Anurag Srivastava\")"
   ]
  },
  {
   "cell_type": "code",
   "execution_count": 0,
   "metadata": {
    "application/vnd.databricks.v1+cell": {
     "cellMetadata": {
      "byteLimit": 2048000,
      "rowLimit": 10000
     },
     "inputWidgets": {},
     "nuid": "44da9fd7-e1c9-46ad-baa7-e8f0dbf5feac",
     "showTitle": false,
     "tableResultSettingsMap": {},
     "title": ""
    }
   },
   "outputs": [],
   "source": [
    "%python\n",
    "count=5\n",
    "while count>0:\n",
    "    print(f\"Retrying! Countdown is {count}\")\n",
    "    count-=1"
   ]
  },
  {
   "cell_type": "code",
   "execution_count": 0,
   "metadata": {
    "application/vnd.databricks.v1+cell": {
     "cellMetadata": {
      "byteLimit": 2048000,
      "rowLimit": 10000
     },
     "inputWidgets": {},
     "nuid": "55726d8f-9c66-48cf-b993-3a8edd3aa451",
     "showTitle": false,
     "tableResultSettingsMap": {},
     "title": ""
    }
   },
   "outputs": [],
   "source": [
    "%python\n",
    "#Print from Odd Numbers 0 to 20\n",
    "#range(Start,Stop,Step)\n",
    "\n",
    "\n",
    "for i in range(1,21,2):\n",
    "    print(i)"
   ]
  },
  {
   "cell_type": "markdown",
   "metadata": {
    "application/vnd.databricks.v1+cell": {
     "cellMetadata": {},
     "inputWidgets": {},
     "nuid": "21a737d1-f1ec-4003-83ba-65a2bbb508b8",
     "showTitle": false,
     "tableResultSettingsMap": {},
     "title": ""
    }
   },
   "source": [
    "Capstone Mini Project"
   ]
  },
  {
   "cell_type": "code",
   "execution_count": 0,
   "metadata": {
    "application/vnd.databricks.v1+cell": {
     "cellMetadata": {
      "byteLimit": 2048000,
      "rowLimit": 10000
     },
     "inputWidgets": {},
     "nuid": "05006db0-5bfa-4754-a33a-2845b61e1582",
     "showTitle": false,
     "tableResultSettingsMap": {},
     "title": ""
    }
   },
   "outputs": [],
   "source": [
    "%python\n",
    "#Employee List\n",
    "employee=['Alice','Anurag','Bob','Anurag','Stuti','Ankur']\n",
    "\n",
    "\n",
    "#Greet Firstly\n",
    "def greet(name):\n",
    "    print(f\"👋👋Hello {name}!!!\")\n",
    "\n",
    "#Check the Team Size\n",
    "def evaluate_team(employee):\n",
    "    if len(employee)>5:\n",
    "        print(\"Team is Big\") \n",
    "    else:\n",
    "        print(\"Team is Small\")\n",
    "\n",
    "#Loop with index\n",
    "for idx,member in enumerate(employee):\n",
    "    \n",
    "    print(f\"Member {idx+1} \")\n",
    "    greet(member)\n",
    "    print(\"************\")"
   ]
  },
  {
   "cell_type": "code",
   "execution_count": 0,
   "metadata": {
    "application/vnd.databricks.v1+cell": {
     "cellMetadata": {
      "byteLimit": 2048000,
      "rowLimit": 10000
     },
     "inputWidgets": {},
     "nuid": "106fb886-add1-4f81-82af-a368bf446102",
     "showTitle": false,
     "tableResultSettingsMap": {},
     "title": ""
    }
   },
   "outputs": [],
   "source": [
    "%python\n",
    "\n",
    "#Type Conversion\n",
    "a=int(input(\"ENter a Number\"))\n",
    "     \n",
    "\n",
    "type(a)"
   ]
  }
 ],
 "metadata": {
  "application/vnd.databricks.v1+notebook": {
   "computePreferences": null,
   "dashboards": [],
   "environmentMetadata": {
    "base_environment": "",
    "environment_version": "4"
   },
   "inputWidgetPreferences": null,
   "language": "sql",
   "notebookMetadata": {
    "pythonIndentUnit": 4
   },
   "notebookName": "class-1_python_handson",
   "widgets": {}
  },
  "language_info": {
   "name": "sql"
  }
 },
 "nbformat": 4,
 "nbformat_minor": 0
}
